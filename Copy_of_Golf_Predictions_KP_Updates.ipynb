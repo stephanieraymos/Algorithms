{
  "nbformat": 4,
  "nbformat_minor": 0,
  "metadata": {
    "colab": {
      "name": "Copy of Golf Predictions - KP Updates.ipynb",
      "provenance": [],
      "collapsed_sections": [],
      "include_colab_link": true
    },
    "kernelspec": {
      "name": "python3",
      "display_name": "Python 3"
    },
    "accelerator": "GPU"
  },
  "cells": [
    {
      "cell_type": "markdown",
      "metadata": {
        "id": "view-in-github",
        "colab_type": "text"
      },
      "source": [
        "<a href=\"https://colab.research.google.com/github/stephanieraymos/Algorithms/blob/master/Copy_of_Golf_Predictions_KP_Updates.ipynb\" target=\"_parent\"><img src=\"https://colab.research.google.com/assets/colab-badge.svg\" alt=\"Open In Colab\"/></a>"
      ]
    },
    {
      "cell_type": "markdown",
      "metadata": {
        "id": "_1QF14cGl13S"
      },
      "source": [
        "# Should we play golf?\n",
        "\n",
        "\n",
        "\n",
        "Today, we will be testing a decision tree model. To predict whether or not we should golf.\n",
        "\n",
        "You will need to add some code to complete this notebook.  Follow along with the slides to find out what code to add.  You will add them where the narrative says \"ADD\" and insert that where the code says \"\\*\\*\\*ADD CODE HERE\\*\\*\\*\""
      ]
    },
    {
      "cell_type": "markdown",
      "metadata": {
        "id": "fWvn90WamBJN"
      },
      "source": [
        "> To execute a line or block of code, simply click the \"Play\" button on the left side or use the keyboard shortcut \"Shift + Enter\"\n",
        "> When that code block has actually been executed, the blank brackets will change to have a number inside of them."
      ]
    },
    {
      "cell_type": "code",
      "metadata": {
        "id": "-HoMqZDXmDpj"
      },
      "source": [
        "x = ***EDIT THIS CODE***\n",
        "print(x)"
      ],
      "execution_count": null,
      "outputs": []
    },
    {
      "cell_type": "markdown",
      "metadata": {
        "id": "gw8-EEFC2vvB"
      },
      "source": [
        "## Seed and Target Data\n",
        "### Import packages that we need to explore and visualize our data.\n",
        "ADD Import statements"
      ]
    },
    {
      "cell_type": "code",
      "metadata": {
        "id": "qK_k_05xgnce"
      },
      "source": [
        "# Import the appropriate packages:\n",
        "from sklearn import tree\n",
        "import pandas as pd\n",
        "\n",
        "\n",
        "# A convenience for displaying visualizations.\n",
        "from IPython.display import Image\n",
        "\n",
        "# Packages for rendering our tree.\n",
        "import pydotplus\n",
        "import graphviz"
      ],
      "execution_count": null,
      "outputs": []
    },
    {
      "cell_type": "markdown",
      "metadata": {
        "id": "j2SAlxrr3Ouo"
      },
      "source": [
        "### \"Collect\" the data\n",
        "Load in our weather data and whether or not we played golf"
      ]
    },
    {
      "cell_type": "code",
      "metadata": {
        "id": "vWQ0tQd7TtB8"
      },
      "source": [
        "#create empty data frame\n",
        "golf_df = pd.DataFrame() \n",
        "\n",
        "# add outlook\n",
        "golf_df['Outlook'] = ['sunny', 'sunny', 'overcast', 'rainy', 'rainy', 'rainy', \n",
        "                     'overcast', 'sunny', 'sunny', 'rainy', 'sunny', 'overcast',\n",
        "                     'overcast', 'rainy']\n",
        "\n",
        "#add temperature\n",
        "golf_df['Temperature'] = [92, 86, 83, 50, 60, 53, 62,\n",
        "                         75, 57, 72, 78, 69, 61, 71]\n",
        "\n",
        "#add humidity\n",
        "golf_df['Humidity'] = [40.3, 63.1, 35.3, 86.3, 72.4, 22.7, 27.0,\n",
        "                      80.7, 15.4, 25.1, 18.6, 58.3, 47.2, 39.3]\n",
        "\n",
        "#add windy\n",
        "golf_df['Windy'] = ['false', 'true', 'false', 'false', 'false', 'true', 'true',\n",
        "                   'false', 'false', 'false', 'true', 'true', 'false', 'true']\n",
        "\n",
        "#finally add play\n",
        "golf_df['Play'] = ['no', 'no', 'yes', 'yes', 'yes', 'no', 'yes', \n",
        "                   'no', 'yes', 'yes', 'yes', 'yes', 'yes', 'no']"
      ],
      "execution_count": null,
      "outputs": []
    },
    {
      "cell_type": "code",
      "metadata": {
        "id": "Xynpv-zXfd9I"
      },
      "source": [
        "# Check what our DataFrame looks like\n",
        "golf_df"
      ],
      "execution_count": null,
      "outputs": []
    },
    {
      "cell_type": "markdown",
      "metadata": {
        "id": "ULZO_Bgs30pb"
      },
      "source": [
        "This data is not ready for machine learning because there are both categorical and numerical values, and our model can only interpret numerical values.  We need to turn strings and chars into integers.\n",
        "\n",
        "### Process the Data\n",
        "ADD the columns to one-hot encode"
      ]
    },
    {
      "cell_type": "code",
      "metadata": {
        "id": "yyrHndv1uu2l"
      },
      "source": [
        "# one hot encoding using pandas\n",
        "one_hot_data = pd.get_dummies(***ADD CODE HERE***)\n",
        "\n",
        "# print out this new formatted data to see what happened\n",
        "one_hot_data"
      ],
      "execution_count": null,
      "outputs": []
    },
    {
      "cell_type": "markdown",
      "metadata": {
        "id": "vx4AERYH5O01"
      },
      "source": [
        "Now the columns that were categorical are now numerical.  Feel free to go back and check that these numbers make sense with our original data.\n",
        "\n",
        "We now need to combine the one-hot encoded data that we just created with the numerical columns of temperature and humidity from our original DataFrame.  To do this, we will use the pandas `join` function."
      ]
    },
    {
      "cell_type": "code",
      "metadata": {
        "id": "zJ9iv9XcfwvY"
      },
      "source": [
        "# Joining together the continuous and dummy variables into one DataFrame\n",
        "golf_one_hot = golf_df[['Temperature', 'Humidity']].join(one_hot_data)\n",
        "\n",
        "# print out this new formatted data to see what happened\n",
        "golf_one_hot"
      ],
      "execution_count": null,
      "outputs": []
    },
    {
      "cell_type": "markdown",
      "metadata": {
        "id": "xEhvqrRH5qjO"
      },
      "source": [
        "Great! Now we have both the original numerical data and the new numerically-encoded categorical data in one data set.  Now our data is ready for modeling!\n",
        "\n",
        "### Predictive Modeling\n",
        "First we will create an empty decision tree, then we will fit the decision tree with all of our weather data as the inputs, and whether or not we played golf as our target.  Finally, we will render our tree so we can take a look at our decision tree.\n",
        "\n",
        "ADD inputs and target data to fit statement"
      ]
    },
    {
      "cell_type": "code",
      "metadata": {
        "id": "ubnh0IKoH59F"
      },
      "source": [
        "# Create empty DecisionTree\n",
        "clf = tree.DecisionTreeClassifier()\n",
        "\n",
        "#fit our decision tree with inputs, target\n",
        "clf_train = clf.fit(***ADD CODE HERE***)\n",
        "\n",
        "# Render our tree.\n",
        "dot_data = tree.export_graphviz(\n",
        "    clf_train, out_file=None,\n",
        "    feature_names=golf_one_hot.columns,\n",
        "    class_names=['No Golf', 'Golf'],\n",
        "    filled=True\n",
        ")\n",
        "graph = pydotplus.graph_from_dot_data(dot_data)\n",
        "Image(graph.create_png())"
      ],
      "execution_count": null,
      "outputs": []
    },
    {
      "cell_type": "markdown",
      "metadata": {
        "id": "f377nIYJ-uNg"
      },
      "source": [
        "Finally, we can use our decision tree to make some predictions.  First, run our prediction.  Then change around some of the numbers (use this weekend's weather?) to see what the model predicts!"
      ]
    },
    {
      "cell_type": "code",
      "metadata": {
        "id": "GP2KSL75yllQ"
      },
      "source": [
        "#Running our prediction\n",
        "#Columns are: [Temperature, Humidity, Outlook_overcast, Outlook_rainy, Outlook_sunny, Windy_false, Windy_true]\n",
        "prediction = clf_train.predict([[72, 15.3, 0, 0, 1, 0, 1]])\n",
        "prediction"
      ],
      "execution_count": null,
      "outputs": []
    },
    {
      "cell_type": "markdown",
      "metadata": {
        "id": "h3JXx4xsZ5ra"
      },
      "source": [
        "#### Challenge\n",
        "For added practice and to improve your model, think about what other factors would help make better predictions about whether or not you should golf. Add those to your DataFrame in the **\"Collect\" the Data** section, then run the rest of your code to see how your decision tree changes.  \n",
        "\n",
        "Things to keep in mind:\n",
        "- You will need the same number of data points in your new column as in the rest of the DataFrame\n",
        "- If your new data point is categorical, make sure you encode it\n",
        "- Your prediction will need to include that column(s) "
      ]
    },
    {
      "cell_type": "code",
      "metadata": {
        "id": "vbfx2k-aZ5HA"
      },
      "source": [
        "# Starter code to copy and paste into to the \"\"Collect\" the Data\" cell above:\n",
        "golf_df['column_name'] = ['list', 'of', 'data', 'points...']"
      ],
      "execution_count": null,
      "outputs": []
    },
    {
      "cell_type": "markdown",
      "metadata": {
        "id": "VSAxTRD6l7OQ"
      },
      "source": [
        "# Keep Learning with Thinkful\n",
        "If you enjoyed today's session and want to take a deeper dive into many of the topics that we covered today like Pandas, SQL, predictive modeling, visualizing your data, and so much more, we'd love to have you join us again!\n",
        "- Check out more of our webinars at [Thinkful Webinars](https://www.thinkful.com/webinars/)\n",
        "- Learn more about the [Data Science Flex Course](https://www.thinkful.com/bootcamp/data-science/flexible/)"
      ]
    }
  ]
}